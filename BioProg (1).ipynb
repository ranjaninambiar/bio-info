{
  "nbformat": 4,
  "nbformat_minor": 0,
  "metadata": {
    "colab": {
      "name": "CB_EN_U4CSE18255_BioProg.ipynb",
      "provenance": [],
      "collapsed_sections": []
    },
    "kernelspec": {
      "name": "python3",
      "display_name": "Python 3"
    },
    "language_info": {
      "name": "python"
    }
  },
  "cells": [
    {
      "cell_type": "markdown",
      "source": [
        "# Programming Assignment\n",
        "\n",
        "## Submitted by,\n",
        "### R SREE RANJANI\n",
        "### DATE OF SUBMISSION: 3/1/2022"
      ],
      "metadata": {
        "id": "Wbn9GvgHMAk6"
      }
    },
    {
      "cell_type": "markdown",
      "source": [
        "Write a program to find the anti-complimentary sequence of an input DNA sequence. [2 marks]"
      ],
      "metadata": {
        "id": "WSKCuzSQKyK5"
      }
    },
    {
      "cell_type": "code",
      "source": [
        "seq=input()\n",
        "seq=list(seq)\n",
        "dict_of_pairs={'A':'T','G':'C','C':'G','T':'A','a':'t','g':'c','c':'g','t':'a'}\n",
        "for i in range(len(seq)):\n",
        "    seq[i]=dict_of_pairs[seq[i]]\n",
        "seq=seq[::-1]\n",
        "print(\"Anti-complimentary sequence:\"+\"\".join(seq))    \n"
      ],
      "metadata": {
        "colab": {
          "base_uri": "https://localhost:8080/"
        },
        "id": "MbXy-cWsKaOt",
        "outputId": "f174b3d8-592c-4646-a1ed-d814c2e86085"
      },
      "execution_count": null,
      "outputs": [
        {
          "output_type": "stream",
          "name": "stdout",
          "text": [
            "atgctaggcctaatgc\n",
            "Anti-complimentary sequence:gcattaggcctagcat\n"
          ]
        }
      ]
    },
    {
      "cell_type": "markdown",
      "source": [
        "Intrinsic terminators have two prominent structural features: (1) a sequence of nucleotides that includes an inverted repeat (i.e., the sequence 5'-CGGATG|CATCCG-3' contains an inverted repeat centered at the \"|\" because \"5'-CGGATG-3\"' reads \"5'-CATCCG-3\"' on its complementary strand), and (2) a run of roughly six uracils immediately following the inverted repeat. Write a function to identify intrinsic terminators from the sequence.\t[5 marks]"
      ],
      "metadata": {
        "id": "WqPpW4GRK2M6"
      }
    },
    {
      "cell_type": "code",
      "source": [
        "def computesubstrings(seq):\n",
        "    n = len(seq)\n",
        "    sublist = []\n",
        "    for i in range(n):\n",
        "        for j in range(i,n):\n",
        "            if len(seq[i:j+1])>6: #to compute substrings of length greater than 6\n",
        "                sublist.append(seq[i:j + 1]) \n",
        "    return sublist\n",
        "\n",
        "def findanticomp(seq):\n",
        "    seq=list(seq)\n",
        "    dict_of_pairs={'A':'T','G':'C','C':'G','T':'A','a':'t','g':'c','c':'g','t':'a'}\n",
        "    for i in range(len(seq)):\n",
        "        seq[i]=dict_of_pairs[seq[i]]\n",
        "    seq=seq[::-1]\n",
        "    return(\"\".join(seq))    \n",
        "\n",
        "inp=input()\n",
        "subarr=computesubstrings(inp)\n",
        "\n",
        "for i in range(len(subarr)):\n",
        "    if(subarr[i][-6:]==\"UUUUUU\"): #to check if U’s are present\n",
        "        n=len(subarr[i])\n",
        "        fullseq=subarr[i][-n:-6]\n",
        "        fsn=len(fullseq)\n",
        "        if(fsn%2==0): #to check full seq length including the anti complimentary pair is even\n",
        "            hsn=fsn//2 #half seq length computation\n",
        "            g=hsn+hsn\n",
        "            if(subarr[i][hsn:g]==findanticomp(subarr[i][0:hsn])):\n",
        "                print(\"Intrinsic terminator:\",subarr[i])\n"
      ],
      "metadata": {
        "colab": {
          "base_uri": "https://localhost:8080/"
        },
        "id": "X5qADJTFK1mV",
        "outputId": "d81862ce-cd6b-46df-d397-e10e8c3cf46a"
      },
      "execution_count": null,
      "outputs": [
        {
          "output_type": "stream",
          "name": "stdout",
          "text": [
            "ATTTTTTCGGATGCATCCGUUUUUUU\n",
            "Intrinsic terminator: CGGATGCATCCGUUUUUU\n",
            "Intrinsic terminator: CGUUUUUU\n"
          ]
        }
      ]
    },
    {
      "cell_type": "markdown",
      "source": [
        "Given DNA sequence, arrange the codons in the decreasing order of frequency. [3 marks]"
      ],
      "metadata": {
        "id": "DFgm-rnPLN5K"
      }
    },
    {
      "cell_type": "code",
      "source": [
        "inp=input()\n",
        "codons=[]\n",
        "i=0\n",
        "while(i<len(inp)):\n",
        "    codons.append(inp[i:i+3])\n",
        "    i+=3\n",
        "codon_frequency={}\n",
        "for i in codons:\n",
        "    try:\n",
        "        codon_frequency[i]+=1\n",
        "    except:\n",
        "        codon_frequency[i]=1\n",
        "codon_sorted_keys = sorted(codon_frequency, key=codon_frequency.get, reverse=True)\n",
        "for r in codon_sorted_keys:\n",
        "    print(r, codon_frequency[r])\n",
        "    \n"
      ],
      "metadata": {
        "colab": {
          "base_uri": "https://localhost:8080/"
        },
        "id": "_Ab4NTlaLQLH",
        "outputId": "ecb0e2c5-e33a-4079-f9ae-705a5243afe6"
      },
      "execution_count": null,
      "outputs": [
        {
          "output_type": "stream",
          "name": "stdout",
          "text": [
            "ACTAGTAGGACTAGTACA\n",
            "ACT 2\n",
            "AGT 2\n",
            "AGG 1\n",
            "ACA 1\n"
          ]
        }
      ]
    },
    {
      "cell_type": "markdown",
      "source": [
        "Given two strings s and t of equal length, the Hamming distance between s and t, denoted dH(s,t), is the number of corresponding symbols that differ in s and t. Write a function to compute dH(s,t)\t[4 marks]"
      ],
      "metadata": {
        "id": "cYHV4tVuLa1D"
      }
    },
    {
      "cell_type": "code",
      "source": [
        "def computehamming(seq1,seq2):\n",
        "    DH=0\n",
        "    if(len(seq1)!=len(seq2)):\n",
        "        return(\"Enter same length sequences\")\n",
        "    else:\n",
        "        for i in range(len(seq1)):\n",
        "            if(seq1[i]!=seq2[i]):\n",
        "                DH+=1\n",
        "        return(DH)\n",
        "\n",
        "            \n",
        "print(\"Hamming distance:\"+str(computehamming(input(),input())))\n"
      ],
      "metadata": {
        "colab": {
          "base_uri": "https://localhost:8080/"
        },
        "id": "WrKxDyGkLfAW",
        "outputId": "06902b16-19ba-4c71-8d97-32ba8138a701"
      },
      "execution_count": null,
      "outputs": [
        {
          "output_type": "stream",
          "name": "stdout",
          "text": [
            "agctgatcagctagc\n",
            "agtcgactaagctag\n",
            "Hamming distance:10\n"
          ]
        }
      ]
    },
    {
      "cell_type": "markdown",
      "source": [
        "Given Two protein strings s and t in FASTA format (each of length at most 100 aa), write a program to find the optimal global alignment score (use match score, mismatch and gap penalties as variables)\t[10 marks]"
      ],
      "metadata": {
        "id": "mszGJNsRL8wW"
      }
    },
    {
      "cell_type": "code",
      "execution_count": null,
      "metadata": {
        "colab": {
          "base_uri": "https://localhost:8080/"
        },
        "id": "4QbcxfvWjn-7",
        "outputId": "5957e66a-1836-4693-84a1-2679eecaaef2"
      },
      "outputs": [
        {
          "output_type": "stream",
          "name": "stdout",
          "text": [
            "DP ARRAY\n",
            "[[0 -1 -2 -3 -4 -5 -6]\n",
            " [-1 -1 0 -1 -2 -3 -4]\n",
            " [-2 -2 0 1 0 -1 -2]\n",
            " [-3 -1 -1 0 0 1 0]\n",
            " [-4 -2 -2 -1 1 0 0]\n",
            " [-5 -3 -3 -2 0 0 -1]\n",
            " [-6 -4 -4 -3 -1 1 0]\n",
            " [-7 -5 -5 -4 -2 0 2]]\n",
            "Global Allignment Score:2\n"
          ]
        }
      ],
      "source": [
        "import numpy as np\n",
        "\n",
        "def needleman_wunsch(firstseq, secondseq, match=1, mismatch=-1, gap=-1):\n",
        "    dptable = np.full((len(secondseq) + 2, len(firstseq) + 2), ' ', dtype=object)\n",
        "    dptable[0, 2:] = firstseq\n",
        "    dptable[1, 1:] = list(range(0, -len(firstseq) - 1, -1))\n",
        "    dptable[2:, 0] = secondseq\n",
        "    dptable[1:, 1] = list(range(0, -len(secondseq) - 1, -1))\n",
        "    is_equal = {True: match, False: mismatch}\n",
        "    for f in range(2, len(firstseq) + 2):\n",
        "        for s in range(2, len(secondseq) + 2):\n",
        "            dptable[s, f] = max(dptable[s - 1][f - 1] + is_equal[firstseq[f - 2] == secondseq[s - 2]],\n",
        "                            dptable[s - 1][f] + gap,\n",
        "                            dptable[s][f - 1] + gap)\n",
        "    return dptable\n",
        "\n",
        "first_seq = \"ACCTAG\"\n",
        "second_seq = \"CCATTAG\"\n",
        "data = needleman_wunsch(first_seq, second_seq)\n",
        "print(\"DP ARRAY\")\n",
        "print(data[1:,1:])\n",
        "print(\"Global Allignment Score:\"+str(data[len(second_seq)+1,len(first_seq)+1]))\n"
      ]
    }
  ]
}
